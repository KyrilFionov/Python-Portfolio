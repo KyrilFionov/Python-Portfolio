{
 "cells": [
  {
   "cell_type": "code",
   "execution_count": 6,
   "metadata": {},
   "outputs": [],
   "source": [
    "import pandas as pd\n",
    "import re\n",
    "\n",
    "# sheet_name = None opens all sheets of the input file\n",
    "xlsx  = pd.read_excel(r'https://github.com/KyrilFionov/Python-Portfolio/tree/main/File-Transformation/Metrics_Forecast_Input.xlsx',sheet_name=None)\n",
    "\n",
    "# I remove 'Model' sheet since it is not required in the analysis\n",
    "xlsx.pop('Model')\n",
    "\n",
    "# I create a variable that specifies a plan scenario I'm interested in\n",
    "PLAN = 'Q4G'\n",
    "\n",
    "regions_data = []\n",
    "for region, data in xlsx.items():\n",
    "    data.iloc[0:2] = data.iloc[0:2].fillna(method='ffill', axis=1)\n",
    "    data = data.fillna('')\n",
    "    data.columns = data.iloc[0:2].apply(lambda x: ''.join([y for y in x if y]), axis=0)\n",
    "    data = data.iloc[2:]\n",
    "    plan_data = (data\n",
    "                 .assign(Region=region\n",
    "                         ,Plan=PLAN)\n",
    "                 .rename(columns=lambda data: re.sub(PLAN,'',data))\n",
    "                 )\n",
    "    regions_data.append(plan_data)\n",
    "combined = pd.concat(regions_data)\n",
    "\n",
    "combined = combined[[\n",
    "    'Year'\n",
    "    ,'Week'\n",
    "    ,'Region'\n",
    "    ,'Plan'\n",
    "    ,'KPI 1'\n",
    "    ,'KPI 2'\n",
    "    ,'KPI 3'\n",
    "    ,'KPI 4'\n",
    "    ,'Overlay 1'\n",
    "    ,'Overlay 2'\n",
    "]]\n",
    "\n",
    "# Pivoting values to later load data in the online DataBase.\n",
    "# Pivoting data allows me adding more KPIs to the online table in future without having to change the structure of the table\n",
    "pivot_data = pd.melt(combined,\n",
    "                id_vars=['Year','Week','Region','Plan'],\n",
    "                value_vars=['KPI 1','KPI 2','KPI 3','KPI 4','Overlay 1','Overlay 2'],\n",
    "                value_name='value',\n",
    "                var_name='metric'\n",
    "                )\n",
    "pivot_data.to_excel(r'https://github.com/KyrilFionov/Python-Portfolio/tree/main/File-Transformation/Metrics_Forecast_Output.xlsx', sheet_name='plan_data', index=False)"
   ]
  }
 ],
 "metadata": {
  "kernelspec": {
   "display_name": "Python 3",
   "language": "python",
   "name": "python3"
  },
  "language_info": {
   "codemirror_mode": {
    "name": "ipython",
    "version": 3
   },
   "file_extension": ".py",
   "mimetype": "text/x-python",
   "name": "python",
   "nbconvert_exporter": "python",
   "pygments_lexer": "ipython3",
   "version": "3.11.2"
  },
  "orig_nbformat": 4
 },
 "nbformat": 4,
 "nbformat_minor": 2
}
